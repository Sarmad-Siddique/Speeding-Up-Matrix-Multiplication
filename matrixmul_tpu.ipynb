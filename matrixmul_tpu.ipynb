{
  "nbformat": 4,
  "nbformat_minor": 0,
  "metadata": {
    "colab": {
      "provenance": []
    },
    "kernelspec": {
      "name": "python3",
      "display_name": "Python 3"
    },
    "language_info": {
      "name": "python"
    },
    "accelerator": "TPU"
  },
  "cells": [
    {
      "cell_type": "code",
      "execution_count": 1,
      "metadata": {
        "id": "8Lm3UIaoh3YD"
      },
      "outputs": [],
      "source": [
        "import tensorflow as tf\n",
        "\n",
        "# Initialize TPU\n",
        "resolver = tf.distribute.cluster_resolver.TPUClusterResolver()\n",
        "tf.config.experimental_connect_to_cluster(resolver)\n",
        "tf.tpu.experimental.initialize_tpu_system(resolver)\n",
        "strategy = tf.distribute.TPUStrategy(resolver)"
      ]
    },
    {
      "cell_type": "code",
      "source": [
        "import numpy as np\n",
        "import time\n",
        "\n",
        "# Define matrix dimensions\n",
        "matrix_size = 4096\n",
        "input_shape = (matrix_size, matrix_size)\n",
        "\n",
        "# Create random matrices\n",
        "matrix_a = tf.random.normal(input_shape)\n",
        "matrix_b = tf.random.normal(input_shape)\n",
        "\n",
        "# Saving input matrices in text files\n",
        "# np.savetxt(\"matrix_a.txt\", matrix_a.numpy())\n",
        "# np.savetxt(\"matrix_b.txt\", matrix_b.numpy())\n",
        "\n",
        "start = time.time()\n",
        "# Wrap matrix multiplication within the strategy scope\n",
        "with strategy.scope():\n",
        "    # Convert matrices to TPU tensors\n",
        "    tpu_matrix_a = tf.convert_to_tensor(matrix_a)\n",
        "    tpu_matrix_b = tf.convert_to_tensor(matrix_b)\n",
        "\n",
        "    # Perform matrix multiplication\n",
        "    result = tf.matmul(tpu_matrix_a, tpu_matrix_b)\n",
        "\n",
        "end = time.time()\n",
        "cpu_time_used = end-start\n",
        "\n",
        "# Saving result in text file\n",
        "# np.savetxt(\"resultTPU.txt\", matrix_b.numpy())\n",
        "\n",
        "# Print result\n",
        "print(f\"Finished {cpu_time_used} seconds...\")"
      ],
      "metadata": {
        "id": "-0-B-fz3iDVZ",
        "colab": {
          "base_uri": "https://localhost:8080/"
        },
        "outputId": "131e0b33-9e52-4dca-d879-c58520ecf020"
      },
      "execution_count": 5,
      "outputs": [
        {
          "output_type": "stream",
          "name": "stdout",
          "text": [
            "Finished 0.03630375862121582 seconds...\n"
          ]
        }
      ]
    }
  ]
}